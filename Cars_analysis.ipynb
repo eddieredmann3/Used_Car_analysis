{
 "cells": [
  {
   "cell_type": "code",
   "execution_count": 1,
   "id": "88bb9587",
   "metadata": {},
   "outputs": [],
   "source": [
    "import numpy as np\n",
    "import pandas as pd"
   ]
  },
  {
   "cell_type": "code",
   "execution_count": 148,
   "id": "8f0a6d00",
   "metadata": {},
   "outputs": [],
   "source": [
    "cars_df = pd.read_csv(\"./USA_cars_datasets.csv\")"
   ]
  },
  {
   "cell_type": "code",
   "execution_count": 6,
   "id": "aec727d3",
   "metadata": {},
   "outputs": [
    {
     "data": {
      "text/plain": [
       "(2499, 13)"
      ]
     },
     "execution_count": 6,
     "metadata": {},
     "output_type": "execute_result"
    }
   ],
   "source": [
    "cars_df.shape"
   ]
  },
  {
   "cell_type": "code",
   "execution_count": 7,
   "id": "29f61252",
   "metadata": {},
   "outputs": [
    {
     "data": {
      "text/html": [
       "<div>\n",
       "<style scoped>\n",
       "    .dataframe tbody tr th:only-of-type {\n",
       "        vertical-align: middle;\n",
       "    }\n",
       "\n",
       "    .dataframe tbody tr th {\n",
       "        vertical-align: top;\n",
       "    }\n",
       "\n",
       "    .dataframe thead th {\n",
       "        text-align: right;\n",
       "    }\n",
       "</style>\n",
       "<table border=\"1\" class=\"dataframe\">\n",
       "  <thead>\n",
       "    <tr style=\"text-align: right;\">\n",
       "      <th></th>\n",
       "      <th>Unnamed: 0</th>\n",
       "      <th>price</th>\n",
       "      <th>brand</th>\n",
       "      <th>model</th>\n",
       "      <th>year</th>\n",
       "      <th>title_status</th>\n",
       "      <th>mileage</th>\n",
       "      <th>color</th>\n",
       "      <th>vin</th>\n",
       "      <th>lot</th>\n",
       "      <th>state</th>\n",
       "      <th>country</th>\n",
       "      <th>condition</th>\n",
       "    </tr>\n",
       "  </thead>\n",
       "  <tbody>\n",
       "    <tr>\n",
       "      <th>0</th>\n",
       "      <td>0</td>\n",
       "      <td>6300</td>\n",
       "      <td>toyota</td>\n",
       "      <td>cruiser</td>\n",
       "      <td>2008</td>\n",
       "      <td>clean vehicle</td>\n",
       "      <td>274117.0</td>\n",
       "      <td>black</td>\n",
       "      <td>jtezu11f88k007763</td>\n",
       "      <td>159348797</td>\n",
       "      <td>new jersey</td>\n",
       "      <td>usa</td>\n",
       "      <td>10 days left</td>\n",
       "    </tr>\n",
       "    <tr>\n",
       "      <th>1</th>\n",
       "      <td>1</td>\n",
       "      <td>2899</td>\n",
       "      <td>ford</td>\n",
       "      <td>se</td>\n",
       "      <td>2011</td>\n",
       "      <td>clean vehicle</td>\n",
       "      <td>190552.0</td>\n",
       "      <td>silver</td>\n",
       "      <td>2fmdk3gc4bbb02217</td>\n",
       "      <td>166951262</td>\n",
       "      <td>tennessee</td>\n",
       "      <td>usa</td>\n",
       "      <td>6 days left</td>\n",
       "    </tr>\n",
       "    <tr>\n",
       "      <th>2</th>\n",
       "      <td>2</td>\n",
       "      <td>5350</td>\n",
       "      <td>dodge</td>\n",
       "      <td>mpv</td>\n",
       "      <td>2018</td>\n",
       "      <td>clean vehicle</td>\n",
       "      <td>39590.0</td>\n",
       "      <td>silver</td>\n",
       "      <td>3c4pdcgg5jt346413</td>\n",
       "      <td>167655728</td>\n",
       "      <td>georgia</td>\n",
       "      <td>usa</td>\n",
       "      <td>2 days left</td>\n",
       "    </tr>\n",
       "    <tr>\n",
       "      <th>3</th>\n",
       "      <td>3</td>\n",
       "      <td>25000</td>\n",
       "      <td>ford</td>\n",
       "      <td>door</td>\n",
       "      <td>2014</td>\n",
       "      <td>clean vehicle</td>\n",
       "      <td>64146.0</td>\n",
       "      <td>blue</td>\n",
       "      <td>1ftfw1et4efc23745</td>\n",
       "      <td>167753855</td>\n",
       "      <td>virginia</td>\n",
       "      <td>usa</td>\n",
       "      <td>22 hours left</td>\n",
       "    </tr>\n",
       "    <tr>\n",
       "      <th>4</th>\n",
       "      <td>4</td>\n",
       "      <td>27700</td>\n",
       "      <td>chevrolet</td>\n",
       "      <td>1500</td>\n",
       "      <td>2018</td>\n",
       "      <td>clean vehicle</td>\n",
       "      <td>6654.0</td>\n",
       "      <td>red</td>\n",
       "      <td>3gcpcrec2jg473991</td>\n",
       "      <td>167763266</td>\n",
       "      <td>florida</td>\n",
       "      <td>usa</td>\n",
       "      <td>22 hours left</td>\n",
       "    </tr>\n",
       "  </tbody>\n",
       "</table>\n",
       "</div>"
      ],
      "text/plain": [
       "   Unnamed: 0  price      brand    model  year   title_status   mileage  \\\n",
       "0           0   6300     toyota  cruiser  2008  clean vehicle  274117.0   \n",
       "1           1   2899       ford       se  2011  clean vehicle  190552.0   \n",
       "2           2   5350      dodge      mpv  2018  clean vehicle   39590.0   \n",
       "3           3  25000       ford     door  2014  clean vehicle   64146.0   \n",
       "4           4  27700  chevrolet     1500  2018  clean vehicle    6654.0   \n",
       "\n",
       "    color                  vin        lot       state country      condition  \n",
       "0   black    jtezu11f88k007763  159348797  new jersey     usa   10 days left  \n",
       "1  silver    2fmdk3gc4bbb02217  166951262   tennessee     usa    6 days left  \n",
       "2  silver    3c4pdcgg5jt346413  167655728     georgia     usa    2 days left  \n",
       "3    blue    1ftfw1et4efc23745  167753855    virginia     usa  22 hours left  \n",
       "4     red    3gcpcrec2jg473991  167763266     florida     usa  22 hours left  "
      ]
     },
     "execution_count": 7,
     "metadata": {},
     "output_type": "execute_result"
    }
   ],
   "source": [
    "cars_df.head()"
   ]
  },
  {
   "cell_type": "code",
   "execution_count": 8,
   "id": "a28a6edf",
   "metadata": {},
   "outputs": [],
   "source": [
    "cars_df = cars_df.dropna()"
   ]
  },
  {
   "cell_type": "code",
   "execution_count": 9,
   "id": "69b0306a",
   "metadata": {},
   "outputs": [
    {
     "data": {
      "text/plain": [
       "(2499, 13)"
      ]
     },
     "execution_count": 9,
     "metadata": {},
     "output_type": "execute_result"
    }
   ],
   "source": [
    "cars_df.shape"
   ]
  },
  {
   "cell_type": "code",
   "execution_count": 15,
   "id": "1027a5fa",
   "metadata": {},
   "outputs": [
    {
     "data": {
      "text/plain": [
       "2499"
      ]
     },
     "execution_count": 15,
     "metadata": {},
     "output_type": "execute_result"
    }
   ],
   "source": [
    "cars_df[\"price\"].astype(int).count()"
   ]
  },
  {
   "cell_type": "code",
   "execution_count": 16,
   "id": "fea73737",
   "metadata": {},
   "outputs": [
    {
     "data": {
      "text/plain": [
       "array(['toyota', 'ford', 'dodge', 'chevrolet', 'gmc', 'chrysler', 'kia',\n",
       "       'buick', 'infiniti', 'mercedes-benz', 'jeep', 'bmw', 'cadillac',\n",
       "       'hyundai', 'mazda', 'honda', 'heartland', 'jaguar', 'acura',\n",
       "       'harley-davidson', 'audi', 'lincoln', 'lexus', 'nissan', 'land',\n",
       "       'maserati', 'peterbilt', 'ram'], dtype=object)"
      ]
     },
     "execution_count": 16,
     "metadata": {},
     "output_type": "execute_result"
    }
   ],
   "source": [
    "cars_df[\"brand\"].unique()"
   ]
  },
  {
   "cell_type": "code",
   "execution_count": 21,
   "id": "2306638a",
   "metadata": {},
   "outputs": [
    {
     "data": {
      "text/plain": [
       "2499"
      ]
     },
     "execution_count": 21,
     "metadata": {},
     "output_type": "execute_result"
    }
   ],
   "source": [
    "cars_df[\"year\"].astype(int).count()"
   ]
  },
  {
   "cell_type": "code",
   "execution_count": 22,
   "id": "e20bc983",
   "metadata": {},
   "outputs": [
    {
     "data": {
      "text/plain": [
       "array(['clean vehicle', 'salvage insurance'], dtype=object)"
      ]
     },
     "execution_count": 22,
     "metadata": {},
     "output_type": "execute_result"
    }
   ],
   "source": [
    "cars_df[\"title_status\"].unique()"
   ]
  },
  {
   "cell_type": "code",
   "execution_count": 23,
   "id": "f23f5d4e",
   "metadata": {},
   "outputs": [
    {
     "data": {
      "text/plain": [
       "2499"
      ]
     },
     "execution_count": 23,
     "metadata": {},
     "output_type": "execute_result"
    }
   ],
   "source": [
    "cars_df[\"mileage\"].astype(int).count()"
   ]
  },
  {
   "cell_type": "code",
   "execution_count": 24,
   "id": "3501a4d1",
   "metadata": {},
   "outputs": [
    {
     "data": {
      "text/plain": [
       "array(['black', 'silver', 'blue', 'red', 'white', 'gray', 'orange',\n",
       "       'brown', 'no_color', 'gold', 'charcoal', 'turquoise', 'beige',\n",
       "       'green', 'dark blue', 'maroon', 'phantom black', 'yellow',\n",
       "       'color:', 'light blue', 'toreador red', 'bright white clearcoat',\n",
       "       'billet silver metallic clearcoat', 'black clearcoat',\n",
       "       'jazz blue pearlcoat', 'purple',\n",
       "       'ruby red metallic tinted clearcoat', 'triple yellow tri-coat',\n",
       "       'competition orange', 'off-white', 'shadow black',\n",
       "       'magnetic metallic', 'ingot silver metallic', 'ruby red',\n",
       "       'royal crimson metallic tinted clearcoat', 'kona blue metallic',\n",
       "       'oxford white', 'lightning blue', 'ingot silver',\n",
       "       'white platinum tri-coat metallic', 'guard',\n",
       "       'tuxedo black metallic', 'tan', 'burgundy', 'super black',\n",
       "       'cayenne red', 'morningsky blue', 'pearl white', 'glacier white'],\n",
       "      dtype=object)"
      ]
     },
     "execution_count": 24,
     "metadata": {},
     "output_type": "execute_result"
    }
   ],
   "source": [
    "cars_df[\"color\"].unique()"
   ]
  },
  {
   "cell_type": "code",
   "execution_count": 26,
   "id": "a991094a",
   "metadata": {},
   "outputs": [
    {
     "data": {
      "text/html": [
       "<div>\n",
       "<style scoped>\n",
       "    .dataframe tbody tr th:only-of-type {\n",
       "        vertical-align: middle;\n",
       "    }\n",
       "\n",
       "    .dataframe tbody tr th {\n",
       "        vertical-align: top;\n",
       "    }\n",
       "\n",
       "    .dataframe thead th {\n",
       "        text-align: right;\n",
       "    }\n",
       "</style>\n",
       "<table border=\"1\" class=\"dataframe\">\n",
       "  <thead>\n",
       "    <tr style=\"text-align: right;\">\n",
       "      <th></th>\n",
       "      <th>Unnamed: 0</th>\n",
       "      <th>price</th>\n",
       "      <th>brand</th>\n",
       "      <th>model</th>\n",
       "      <th>year</th>\n",
       "      <th>title_status</th>\n",
       "      <th>mileage</th>\n",
       "      <th>color</th>\n",
       "      <th>vin</th>\n",
       "      <th>lot</th>\n",
       "      <th>state</th>\n",
       "      <th>country</th>\n",
       "      <th>condition</th>\n",
       "    </tr>\n",
       "  </thead>\n",
       "  <tbody>\n",
       "    <tr>\n",
       "      <th>33</th>\n",
       "      <td>33</td>\n",
       "      <td>5330</td>\n",
       "      <td>ford</td>\n",
       "      <td>mpv</td>\n",
       "      <td>2017</td>\n",
       "      <td>clean vehicle</td>\n",
       "      <td>37792.0</td>\n",
       "      <td>no_color</td>\n",
       "      <td>2fmpk3j9xhbb56401</td>\n",
       "      <td>167656127</td>\n",
       "      <td>texas</td>\n",
       "      <td>usa</td>\n",
       "      <td>2 days left</td>\n",
       "    </tr>\n",
       "    <tr>\n",
       "      <th>52</th>\n",
       "      <td>52</td>\n",
       "      <td>27000</td>\n",
       "      <td>buick</td>\n",
       "      <td>enclave</td>\n",
       "      <td>2017</td>\n",
       "      <td>clean vehicle</td>\n",
       "      <td>32107.0</td>\n",
       "      <td>no_color</td>\n",
       "      <td>5gakrckdxhj113512</td>\n",
       "      <td>167763677</td>\n",
       "      <td>tennessee</td>\n",
       "      <td>usa</td>\n",
       "      <td>22 hours left</td>\n",
       "    </tr>\n",
       "    <tr>\n",
       "      <th>104</th>\n",
       "      <td>104</td>\n",
       "      <td>25201</td>\n",
       "      <td>cadillac</td>\n",
       "      <td>door</td>\n",
       "      <td>2017</td>\n",
       "      <td>clean vehicle</td>\n",
       "      <td>19011.0</td>\n",
       "      <td>no_color</td>\n",
       "      <td>1gyknbrs8hz257399</td>\n",
       "      <td>167765111</td>\n",
       "      <td>michigan</td>\n",
       "      <td>usa</td>\n",
       "      <td>2 days left</td>\n",
       "    </tr>\n",
       "    <tr>\n",
       "      <th>107</th>\n",
       "      <td>107</td>\n",
       "      <td>18003</td>\n",
       "      <td>chevrolet</td>\n",
       "      <td>malibu</td>\n",
       "      <td>2017</td>\n",
       "      <td>clean vehicle</td>\n",
       "      <td>19117.0</td>\n",
       "      <td>no_color</td>\n",
       "      <td>1g1zh5sx7hf141060</td>\n",
       "      <td>167765112</td>\n",
       "      <td>michigan</td>\n",
       "      <td>usa</td>\n",
       "      <td>17 hours left</td>\n",
       "    </tr>\n",
       "    <tr>\n",
       "      <th>215</th>\n",
       "      <td>215</td>\n",
       "      <td>17000</td>\n",
       "      <td>ford</td>\n",
       "      <td>door</td>\n",
       "      <td>2016</td>\n",
       "      <td>clean vehicle</td>\n",
       "      <td>126802.0</td>\n",
       "      <td>no_color</td>\n",
       "      <td>1ft7w2b60geb96643</td>\n",
       "      <td>167757879</td>\n",
       "      <td>florida</td>\n",
       "      <td>usa</td>\n",
       "      <td>2 hours left</td>\n",
       "    </tr>\n",
       "    <tr>\n",
       "      <th>...</th>\n",
       "      <td>...</td>\n",
       "      <td>...</td>\n",
       "      <td>...</td>\n",
       "      <td>...</td>\n",
       "      <td>...</td>\n",
       "      <td>...</td>\n",
       "      <td>...</td>\n",
       "      <td>...</td>\n",
       "      <td>...</td>\n",
       "      <td>...</td>\n",
       "      <td>...</td>\n",
       "      <td>...</td>\n",
       "      <td>...</td>\n",
       "    </tr>\n",
       "    <tr>\n",
       "      <th>2088</th>\n",
       "      <td>2088</td>\n",
       "      <td>59900</td>\n",
       "      <td>ford</td>\n",
       "      <td>max</td>\n",
       "      <td>2020</td>\n",
       "      <td>clean vehicle</td>\n",
       "      <td>2162.0</td>\n",
       "      <td>no_color</td>\n",
       "      <td>1fmjk2at4lea11492</td>\n",
       "      <td>167762991</td>\n",
       "      <td>ohio</td>\n",
       "      <td>usa</td>\n",
       "      <td>21 hours left</td>\n",
       "    </tr>\n",
       "    <tr>\n",
       "      <th>2195</th>\n",
       "      <td>2195</td>\n",
       "      <td>13900</td>\n",
       "      <td>ford</td>\n",
       "      <td>fusion</td>\n",
       "      <td>2019</td>\n",
       "      <td>clean vehicle</td>\n",
       "      <td>27461.0</td>\n",
       "      <td>no_color</td>\n",
       "      <td>3fa6p0lu5kr226287</td>\n",
       "      <td>167802377</td>\n",
       "      <td>north carolina</td>\n",
       "      <td>usa</td>\n",
       "      <td>2 days left</td>\n",
       "    </tr>\n",
       "    <tr>\n",
       "      <th>2203</th>\n",
       "      <td>2203</td>\n",
       "      <td>13800</td>\n",
       "      <td>ford</td>\n",
       "      <td>fusion</td>\n",
       "      <td>2019</td>\n",
       "      <td>clean vehicle</td>\n",
       "      <td>30902.0</td>\n",
       "      <td>no_color</td>\n",
       "      <td>3fa6p0lu8kr225585</td>\n",
       "      <td>167802381</td>\n",
       "      <td>north carolina</td>\n",
       "      <td>usa</td>\n",
       "      <td>2 days left</td>\n",
       "    </tr>\n",
       "    <tr>\n",
       "      <th>2335</th>\n",
       "      <td>2335</td>\n",
       "      <td>16000</td>\n",
       "      <td>nissan</td>\n",
       "      <td>rogue</td>\n",
       "      <td>2018</td>\n",
       "      <td>clean vehicle</td>\n",
       "      <td>39598.0</td>\n",
       "      <td>no_color</td>\n",
       "      <td>knmat2mv5jp602138</td>\n",
       "      <td>167752723</td>\n",
       "      <td>virginia</td>\n",
       "      <td>usa</td>\n",
       "      <td>21 hours left</td>\n",
       "    </tr>\n",
       "    <tr>\n",
       "      <th>2369</th>\n",
       "      <td>2369</td>\n",
       "      <td>16000</td>\n",
       "      <td>nissan</td>\n",
       "      <td>rogue</td>\n",
       "      <td>2018</td>\n",
       "      <td>clean vehicle</td>\n",
       "      <td>44732.0</td>\n",
       "      <td>no_color</td>\n",
       "      <td>jn1butcp0jw1s4309</td>\n",
       "      <td>167753283</td>\n",
       "      <td>south carolina</td>\n",
       "      <td>usa</td>\n",
       "      <td>21 hours left</td>\n",
       "    </tr>\n",
       "  </tbody>\n",
       "</table>\n",
       "<p>61 rows × 13 columns</p>\n",
       "</div>"
      ],
      "text/plain": [
       "      Unnamed: 0  price      brand    model  year   title_status   mileage  \\\n",
       "33            33   5330       ford      mpv  2017  clean vehicle   37792.0   \n",
       "52            52  27000      buick  enclave  2017  clean vehicle   32107.0   \n",
       "104          104  25201   cadillac     door  2017  clean vehicle   19011.0   \n",
       "107          107  18003  chevrolet   malibu  2017  clean vehicle   19117.0   \n",
       "215          215  17000       ford     door  2016  clean vehicle  126802.0   \n",
       "...          ...    ...        ...      ...   ...            ...       ...   \n",
       "2088        2088  59900       ford      max  2020  clean vehicle    2162.0   \n",
       "2195        2195  13900       ford   fusion  2019  clean vehicle   27461.0   \n",
       "2203        2203  13800       ford   fusion  2019  clean vehicle   30902.0   \n",
       "2335        2335  16000     nissan    rogue  2018  clean vehicle   39598.0   \n",
       "2369        2369  16000     nissan    rogue  2018  clean vehicle   44732.0   \n",
       "\n",
       "         color                  vin        lot           state country  \\\n",
       "33    no_color    2fmpk3j9xhbb56401  167656127           texas     usa   \n",
       "52    no_color    5gakrckdxhj113512  167763677       tennessee     usa   \n",
       "104   no_color    1gyknbrs8hz257399  167765111        michigan     usa   \n",
       "107   no_color    1g1zh5sx7hf141060  167765112        michigan     usa   \n",
       "215   no_color    1ft7w2b60geb96643  167757879         florida     usa   \n",
       "...        ...                  ...        ...             ...     ...   \n",
       "2088  no_color    1fmjk2at4lea11492  167762991            ohio     usa   \n",
       "2195  no_color    3fa6p0lu5kr226287  167802377  north carolina     usa   \n",
       "2203  no_color    3fa6p0lu8kr225585  167802381  north carolina     usa   \n",
       "2335  no_color    knmat2mv5jp602138  167752723        virginia     usa   \n",
       "2369  no_color    jn1butcp0jw1s4309  167753283  south carolina     usa   \n",
       "\n",
       "          condition  \n",
       "33      2 days left  \n",
       "52    22 hours left  \n",
       "104     2 days left  \n",
       "107   17 hours left  \n",
       "215    2 hours left  \n",
       "...             ...  \n",
       "2088  21 hours left  \n",
       "2195    2 days left  \n",
       "2203    2 days left  \n",
       "2335  21 hours left  \n",
       "2369  21 hours left  \n",
       "\n",
       "[61 rows x 13 columns]"
      ]
     },
     "execution_count": 26,
     "metadata": {},
     "output_type": "execute_result"
    }
   ],
   "source": [
    "cars_df[cars_df[\"color\"] == \"no_color\"]"
   ]
  },
  {
   "cell_type": "code",
   "execution_count": 36,
   "id": "fec0c23a",
   "metadata": {},
   "outputs": [
    {
     "data": {
      "text/html": [
       "<div>\n",
       "<style scoped>\n",
       "    .dataframe tbody tr th:only-of-type {\n",
       "        vertical-align: middle;\n",
       "    }\n",
       "\n",
       "    .dataframe tbody tr th {\n",
       "        vertical-align: top;\n",
       "    }\n",
       "\n",
       "    .dataframe thead th {\n",
       "        text-align: right;\n",
       "    }\n",
       "</style>\n",
       "<table border=\"1\" class=\"dataframe\">\n",
       "  <thead>\n",
       "    <tr style=\"text-align: right;\">\n",
       "      <th></th>\n",
       "      <th>Unnamed: 0</th>\n",
       "      <th>price</th>\n",
       "      <th>brand</th>\n",
       "      <th>model</th>\n",
       "      <th>year</th>\n",
       "      <th>title_status</th>\n",
       "      <th>mileage</th>\n",
       "      <th>color</th>\n",
       "      <th>vin</th>\n",
       "      <th>lot</th>\n",
       "      <th>state</th>\n",
       "      <th>country</th>\n",
       "      <th>condition</th>\n",
       "    </tr>\n",
       "  </thead>\n",
       "  <tbody>\n",
       "  </tbody>\n",
       "</table>\n",
       "</div>"
      ],
      "text/plain": [
       "Empty DataFrame\n",
       "Columns: [Unnamed: 0, price, brand, model, year, title_status, mileage, color, vin, lot, state, country, condition]\n",
       "Index: []"
      ]
     },
     "execution_count": 36,
     "metadata": {},
     "output_type": "execute_result"
    }
   ],
   "source": [
    "#looking for duplicate vin values\n",
    "unique_vin = not cars_df[\"vin\"].is_unique\n",
    "cars_df[cars_df[\"vin\"] == unique_vin]"
   ]
  },
  {
   "cell_type": "code",
   "execution_count": 37,
   "id": "30095924",
   "metadata": {},
   "outputs": [
    {
     "data": {
      "text/plain": [
       "2499"
      ]
     },
     "execution_count": 37,
     "metadata": {},
     "output_type": "execute_result"
    }
   ],
   "source": [
    "cars_df[\"lot\"].astype(int).count()"
   ]
  },
  {
   "cell_type": "code",
   "execution_count": 38,
   "id": "a62cfb15",
   "metadata": {},
   "outputs": [
    {
     "data": {
      "text/plain": [
       "array(['new jersey', 'tennessee', 'georgia', 'virginia', 'florida',\n",
       "       'texas', 'california', 'north carolina', 'ohio', 'new york',\n",
       "       'pennsylvania', 'south carolina', 'michigan', 'washington',\n",
       "       'arizona', 'utah', 'kentucky', 'massachusetts', 'nebraska',\n",
       "       'ontario', 'missouri', 'minnesota', 'oklahoma', 'connecticut',\n",
       "       'indiana', 'arkansas', 'kansas', 'wyoming', 'colorado', 'illinois',\n",
       "       'wisconsin', 'mississippi', 'maryland', 'oregon', 'west virginia',\n",
       "       'nevada', 'rhode island', 'louisiana', 'alabama', 'new mexico',\n",
       "       'idaho', 'new hampshire', 'montana', 'vermont'], dtype=object)"
      ]
     },
     "execution_count": 38,
     "metadata": {},
     "output_type": "execute_result"
    }
   ],
   "source": [
    "cars_df[\"state\"].unique()"
   ]
  },
  {
   "cell_type": "code",
   "execution_count": 120,
   "id": "0da369bd",
   "metadata": {},
   "outputs": [
    {
     "data": {
      "text/html": [
       "<div>\n",
       "<style scoped>\n",
       "    .dataframe tbody tr th:only-of-type {\n",
       "        vertical-align: middle;\n",
       "    }\n",
       "\n",
       "    .dataframe tbody tr th {\n",
       "        vertical-align: top;\n",
       "    }\n",
       "\n",
       "    .dataframe thead th {\n",
       "        text-align: right;\n",
       "    }\n",
       "</style>\n",
       "<table border=\"1\" class=\"dataframe\">\n",
       "  <thead>\n",
       "    <tr style=\"text-align: right;\">\n",
       "      <th></th>\n",
       "      <th>Unnamed: 0</th>\n",
       "      <th>price</th>\n",
       "      <th>brand</th>\n",
       "      <th>model</th>\n",
       "      <th>year</th>\n",
       "      <th>title_status</th>\n",
       "      <th>mileage</th>\n",
       "      <th>color</th>\n",
       "      <th>vin</th>\n",
       "      <th>lot</th>\n",
       "      <th>state</th>\n",
       "      <th>country</th>\n",
       "      <th>condition</th>\n",
       "    </tr>\n",
       "  </thead>\n",
       "  <tbody>\n",
       "    <tr>\n",
       "      <th>261</th>\n",
       "      <td>261</td>\n",
       "      <td>33000</td>\n",
       "      <td>chevrolet</td>\n",
       "      <td>1500</td>\n",
       "      <td>2018</td>\n",
       "      <td>clean vehicle</td>\n",
       "      <td>52521.0</td>\n",
       "      <td>white</td>\n",
       "      <td>3gcukreh0jg303596</td>\n",
       "      <td>167766786</td>\n",
       "      <td>ontario</td>\n",
       "      <td>canada</td>\n",
       "      <td>10 days left</td>\n",
       "    </tr>\n",
       "    <tr>\n",
       "      <th>813</th>\n",
       "      <td>813</td>\n",
       "      <td>30000</td>\n",
       "      <td>dodge</td>\n",
       "      <td>charger</td>\n",
       "      <td>2019</td>\n",
       "      <td>clean vehicle</td>\n",
       "      <td>43294.0</td>\n",
       "      <td>white</td>\n",
       "      <td>2c3cdxjg2kh630921</td>\n",
       "      <td>167766742</td>\n",
       "      <td>ontario</td>\n",
       "      <td>canada</td>\n",
       "      <td>10 days left</td>\n",
       "    </tr>\n",
       "    <tr>\n",
       "      <th>814</th>\n",
       "      <td>814</td>\n",
       "      <td>30000</td>\n",
       "      <td>dodge</td>\n",
       "      <td>charger</td>\n",
       "      <td>2019</td>\n",
       "      <td>clean vehicle</td>\n",
       "      <td>54309.0</td>\n",
       "      <td>orange</td>\n",
       "      <td>2c3cdxjg0kh682158</td>\n",
       "      <td>167766743</td>\n",
       "      <td>ontario</td>\n",
       "      <td>canada</td>\n",
       "      <td>10 days left</td>\n",
       "    </tr>\n",
       "    <tr>\n",
       "      <th>815</th>\n",
       "      <td>815</td>\n",
       "      <td>30000</td>\n",
       "      <td>dodge</td>\n",
       "      <td>charger</td>\n",
       "      <td>2019</td>\n",
       "      <td>clean vehicle</td>\n",
       "      <td>52822.0</td>\n",
       "      <td>white</td>\n",
       "      <td>2c3cdxjg2kh658962</td>\n",
       "      <td>167766751</td>\n",
       "      <td>ontario</td>\n",
       "      <td>canada</td>\n",
       "      <td>10 days left</td>\n",
       "    </tr>\n",
       "    <tr>\n",
       "      <th>816</th>\n",
       "      <td>816</td>\n",
       "      <td>30000</td>\n",
       "      <td>dodge</td>\n",
       "      <td>charger</td>\n",
       "      <td>2019</td>\n",
       "      <td>clean vehicle</td>\n",
       "      <td>45554.0</td>\n",
       "      <td>white</td>\n",
       "      <td>2c3cdxjg1kh630912</td>\n",
       "      <td>167766757</td>\n",
       "      <td>ontario</td>\n",
       "      <td>canada</td>\n",
       "      <td>10 days left</td>\n",
       "    </tr>\n",
       "    <tr>\n",
       "      <th>817</th>\n",
       "      <td>817</td>\n",
       "      <td>30000</td>\n",
       "      <td>dodge</td>\n",
       "      <td>charger</td>\n",
       "      <td>2019</td>\n",
       "      <td>clean vehicle</td>\n",
       "      <td>37538.0</td>\n",
       "      <td>white</td>\n",
       "      <td>2c3cdxjg1kh658953</td>\n",
       "      <td>167766758</td>\n",
       "      <td>ontario</td>\n",
       "      <td>canada</td>\n",
       "      <td>10 days left</td>\n",
       "    </tr>\n",
       "    <tr>\n",
       "      <th>818</th>\n",
       "      <td>818</td>\n",
       "      <td>29500</td>\n",
       "      <td>dodge</td>\n",
       "      <td>charger</td>\n",
       "      <td>2019</td>\n",
       "      <td>clean vehicle</td>\n",
       "      <td>35153.0</td>\n",
       "      <td>red</td>\n",
       "      <td>2c3cdxjg6kh630954</td>\n",
       "      <td>167766763</td>\n",
       "      <td>ontario</td>\n",
       "      <td>canada</td>\n",
       "      <td>10 days left</td>\n",
       "    </tr>\n",
       "  </tbody>\n",
       "</table>\n",
       "</div>"
      ],
      "text/plain": [
       "     Unnamed: 0  price      brand    model  year   title_status  mileage  \\\n",
       "261         261  33000  chevrolet     1500  2018  clean vehicle  52521.0   \n",
       "813         813  30000      dodge  charger  2019  clean vehicle  43294.0   \n",
       "814         814  30000      dodge  charger  2019  clean vehicle  54309.0   \n",
       "815         815  30000      dodge  charger  2019  clean vehicle  52822.0   \n",
       "816         816  30000      dodge  charger  2019  clean vehicle  45554.0   \n",
       "817         817  30000      dodge  charger  2019  clean vehicle  37538.0   \n",
       "818         818  29500      dodge  charger  2019  clean vehicle  35153.0   \n",
       "\n",
       "      color                  vin        lot    state  country     condition  \n",
       "261   white    3gcukreh0jg303596  167766786  ontario   canada  10 days left  \n",
       "813   white    2c3cdxjg2kh630921  167766742  ontario   canada  10 days left  \n",
       "814  orange    2c3cdxjg0kh682158  167766743  ontario   canada  10 days left  \n",
       "815   white    2c3cdxjg2kh658962  167766751  ontario   canada  10 days left  \n",
       "816   white    2c3cdxjg1kh630912  167766757  ontario   canada  10 days left  \n",
       "817   white    2c3cdxjg1kh658953  167766758  ontario   canada  10 days left  \n",
       "818     red    2c3cdxjg6kh630954  167766763  ontario   canada  10 days left  "
      ]
     },
     "execution_count": 120,
     "metadata": {},
     "output_type": "execute_result"
    }
   ],
   "source": [
    "cars_df[cars_df[\"state\"] == \"ontario\"]"
   ]
  },
  {
   "cell_type": "code",
   "execution_count": 149,
   "id": "6e246431",
   "metadata": {},
   "outputs": [],
   "source": [
    "#because Canada has different car laws from the U.S., we don't want cars from Canada\n",
    "cars_df = cars_df[cars_df[\"state\"] != \"ontario\"]"
   ]
  },
  {
   "cell_type": "code",
   "execution_count": 79,
   "id": "e38877d9",
   "metadata": {},
   "outputs": [
    {
     "data": {
      "text/plain": [
       "array([' usa'], dtype=object)"
      ]
     },
     "execution_count": 79,
     "metadata": {},
     "output_type": "execute_result"
    }
   ],
   "source": [
    "cars_df[\"country\"].unique()"
   ]
  },
  {
   "cell_type": "code",
   "execution_count": 150,
   "id": "c4d155ce",
   "metadata": {},
   "outputs": [
    {
     "data": {
      "text/html": [
       "<div>\n",
       "<style scoped>\n",
       "    .dataframe tbody tr th:only-of-type {\n",
       "        vertical-align: middle;\n",
       "    }\n",
       "\n",
       "    .dataframe tbody tr th {\n",
       "        vertical-align: top;\n",
       "    }\n",
       "\n",
       "    .dataframe thead th {\n",
       "        text-align: right;\n",
       "    }\n",
       "</style>\n",
       "<table border=\"1\" class=\"dataframe\">\n",
       "  <thead>\n",
       "    <tr style=\"text-align: right;\">\n",
       "      <th></th>\n",
       "      <th>Unnamed: 0</th>\n",
       "      <th>price</th>\n",
       "      <th>brand</th>\n",
       "      <th>model</th>\n",
       "      <th>year</th>\n",
       "      <th>title_status</th>\n",
       "      <th>mileage</th>\n",
       "      <th>color</th>\n",
       "      <th>vin</th>\n",
       "      <th>lot</th>\n",
       "      <th>state</th>\n",
       "      <th>country</th>\n",
       "      <th>condition</th>\n",
       "      <th>hours_left</th>\n",
       "    </tr>\n",
       "  </thead>\n",
       "  <tbody>\n",
       "    <tr>\n",
       "      <th>0</th>\n",
       "      <td>0</td>\n",
       "      <td>6300</td>\n",
       "      <td>toyota</td>\n",
       "      <td>cruiser</td>\n",
       "      <td>2008</td>\n",
       "      <td>clean vehicle</td>\n",
       "      <td>274117.0</td>\n",
       "      <td>black</td>\n",
       "      <td>jtezu11f88k007763</td>\n",
       "      <td>159348797</td>\n",
       "      <td>new jersey</td>\n",
       "      <td>usa</td>\n",
       "      <td>10 days left</td>\n",
       "      <td>10</td>\n",
       "    </tr>\n",
       "    <tr>\n",
       "      <th>1</th>\n",
       "      <td>1</td>\n",
       "      <td>2899</td>\n",
       "      <td>ford</td>\n",
       "      <td>se</td>\n",
       "      <td>2011</td>\n",
       "      <td>clean vehicle</td>\n",
       "      <td>190552.0</td>\n",
       "      <td>silver</td>\n",
       "      <td>2fmdk3gc4bbb02217</td>\n",
       "      <td>166951262</td>\n",
       "      <td>tennessee</td>\n",
       "      <td>usa</td>\n",
       "      <td>6 days left</td>\n",
       "      <td>6</td>\n",
       "    </tr>\n",
       "    <tr>\n",
       "      <th>2</th>\n",
       "      <td>2</td>\n",
       "      <td>5350</td>\n",
       "      <td>dodge</td>\n",
       "      <td>mpv</td>\n",
       "      <td>2018</td>\n",
       "      <td>clean vehicle</td>\n",
       "      <td>39590.0</td>\n",
       "      <td>silver</td>\n",
       "      <td>3c4pdcgg5jt346413</td>\n",
       "      <td>167655728</td>\n",
       "      <td>georgia</td>\n",
       "      <td>usa</td>\n",
       "      <td>2 days left</td>\n",
       "      <td>2</td>\n",
       "    </tr>\n",
       "    <tr>\n",
       "      <th>3</th>\n",
       "      <td>3</td>\n",
       "      <td>25000</td>\n",
       "      <td>ford</td>\n",
       "      <td>door</td>\n",
       "      <td>2014</td>\n",
       "      <td>clean vehicle</td>\n",
       "      <td>64146.0</td>\n",
       "      <td>blue</td>\n",
       "      <td>1ftfw1et4efc23745</td>\n",
       "      <td>167753855</td>\n",
       "      <td>virginia</td>\n",
       "      <td>usa</td>\n",
       "      <td>22 hours left</td>\n",
       "      <td>22</td>\n",
       "    </tr>\n",
       "    <tr>\n",
       "      <th>4</th>\n",
       "      <td>4</td>\n",
       "      <td>27700</td>\n",
       "      <td>chevrolet</td>\n",
       "      <td>1500</td>\n",
       "      <td>2018</td>\n",
       "      <td>clean vehicle</td>\n",
       "      <td>6654.0</td>\n",
       "      <td>red</td>\n",
       "      <td>3gcpcrec2jg473991</td>\n",
       "      <td>167763266</td>\n",
       "      <td>florida</td>\n",
       "      <td>usa</td>\n",
       "      <td>22 hours left</td>\n",
       "      <td>22</td>\n",
       "    </tr>\n",
       "  </tbody>\n",
       "</table>\n",
       "</div>"
      ],
      "text/plain": [
       "   Unnamed: 0  price      brand    model  year   title_status   mileage  \\\n",
       "0           0   6300     toyota  cruiser  2008  clean vehicle  274117.0   \n",
       "1           1   2899       ford       se  2011  clean vehicle  190552.0   \n",
       "2           2   5350      dodge      mpv  2018  clean vehicle   39590.0   \n",
       "3           3  25000       ford     door  2014  clean vehicle   64146.0   \n",
       "4           4  27700  chevrolet     1500  2018  clean vehicle    6654.0   \n",
       "\n",
       "    color                  vin        lot       state country      condition  \\\n",
       "0   black    jtezu11f88k007763  159348797  new jersey     usa   10 days left   \n",
       "1  silver    2fmdk3gc4bbb02217  166951262   tennessee     usa    6 days left   \n",
       "2  silver    3c4pdcgg5jt346413  167655728     georgia     usa    2 days left   \n",
       "3    blue    1ftfw1et4efc23745  167753855    virginia     usa  22 hours left   \n",
       "4     red    3gcpcrec2jg473991  167763266     florida     usa  22 hours left   \n",
       "\n",
       "  hours_left  \n",
       "0         10  \n",
       "1          6  \n",
       "2          2  \n",
       "3         22  \n",
       "4         22  "
      ]
     },
     "execution_count": 150,
     "metadata": {},
     "output_type": "execute_result"
    }
   ],
   "source": [
    "#so, we want to know how many hours are left for the posting\n",
    "cars_df[\"hours_left\"] = cars_df[\"condition\"].str.split(\" \", expand=True)[0]\n",
    "cars_df.head()"
   ]
  },
  {
   "cell_type": "code",
   "execution_count": 151,
   "id": "f9df3ea3",
   "metadata": {},
   "outputs": [],
   "source": [
    "cars_df[\"condition\"] = cars_df[\"condition\"].str.split(\" \", expand=True)[1]"
   ]
  },
  {
   "cell_type": "code",
   "execution_count": 145,
   "id": "de7cb298",
   "metadata": {},
   "outputs": [],
   "source": [
    "cars_df[\"hours_left\"] = cars_df[\"hours_left\"].astype(str)\n",
    "try:\n",
    "    cars_df[\"hours_left\"] = cars_df[\"hours_left\"].astype(int)\n",
    "except ValueError:\n",
    "    pass"
   ]
  },
  {
   "cell_type": "code",
   "execution_count": 146,
   "id": "7280ee55",
   "metadata": {},
   "outputs": [],
   "source": [
    "cars_df.loc[cars_df[\"condition\"] == \"days\", \"hours_left\"] *= 24"
   ]
  },
  {
   "cell_type": "code",
   "execution_count": 154,
   "id": "db675a8d",
   "metadata": {},
   "outputs": [
    {
     "data": {
      "text/plain": [
       "array(['days', 'hours', 'minutes', 'Expired'], dtype=object)"
      ]
     },
     "execution_count": 154,
     "metadata": {},
     "output_type": "execute_result"
    }
   ],
   "source": [
    "cars_df[\"condition\"].unique()"
   ]
  },
  {
   "cell_type": "code",
   "execution_count": 178,
   "id": "d3687c65",
   "metadata": {},
   "outputs": [],
   "source": [
    "continuous_vals = cars_df[[\"price\", \"mileage\", \"year\"]]\n",
    "categorical_vals = cars_df[[\"brand\", \"model\", \"title_status\", \"color\", \"lot\", \"state\"]]"
   ]
  },
  {
   "cell_type": "code",
   "execution_count": 179,
   "id": "a41532bc",
   "metadata": {},
   "outputs": [
    {
     "data": {
      "text/html": [
       "<div>\n",
       "<style scoped>\n",
       "    .dataframe tbody tr th:only-of-type {\n",
       "        vertical-align: middle;\n",
       "    }\n",
       "\n",
       "    .dataframe tbody tr th {\n",
       "        vertical-align: top;\n",
       "    }\n",
       "\n",
       "    .dataframe thead th {\n",
       "        text-align: right;\n",
       "    }\n",
       "</style>\n",
       "<table border=\"1\" class=\"dataframe\">\n",
       "  <thead>\n",
       "    <tr style=\"text-align: right;\">\n",
       "      <th></th>\n",
       "      <th>price</th>\n",
       "      <th>mileage</th>\n",
       "      <th>year</th>\n",
       "    </tr>\n",
       "  </thead>\n",
       "  <tbody>\n",
       "    <tr>\n",
       "      <th>0</th>\n",
       "      <td>6300</td>\n",
       "      <td>274117.0</td>\n",
       "      <td>2008</td>\n",
       "    </tr>\n",
       "    <tr>\n",
       "      <th>1</th>\n",
       "      <td>2899</td>\n",
       "      <td>190552.0</td>\n",
       "      <td>2011</td>\n",
       "    </tr>\n",
       "    <tr>\n",
       "      <th>2</th>\n",
       "      <td>5350</td>\n",
       "      <td>39590.0</td>\n",
       "      <td>2018</td>\n",
       "    </tr>\n",
       "    <tr>\n",
       "      <th>3</th>\n",
       "      <td>25000</td>\n",
       "      <td>64146.0</td>\n",
       "      <td>2014</td>\n",
       "    </tr>\n",
       "    <tr>\n",
       "      <th>4</th>\n",
       "      <td>27700</td>\n",
       "      <td>6654.0</td>\n",
       "      <td>2018</td>\n",
       "    </tr>\n",
       "    <tr>\n",
       "      <th>...</th>\n",
       "      <td>...</td>\n",
       "      <td>...</td>\n",
       "      <td>...</td>\n",
       "    </tr>\n",
       "    <tr>\n",
       "      <th>2494</th>\n",
       "      <td>7800</td>\n",
       "      <td>23609.0</td>\n",
       "      <td>2019</td>\n",
       "    </tr>\n",
       "    <tr>\n",
       "      <th>2495</th>\n",
       "      <td>9200</td>\n",
       "      <td>34553.0</td>\n",
       "      <td>2018</td>\n",
       "    </tr>\n",
       "    <tr>\n",
       "      <th>2496</th>\n",
       "      <td>9200</td>\n",
       "      <td>31594.0</td>\n",
       "      <td>2018</td>\n",
       "    </tr>\n",
       "    <tr>\n",
       "      <th>2497</th>\n",
       "      <td>9200</td>\n",
       "      <td>32557.0</td>\n",
       "      <td>2018</td>\n",
       "    </tr>\n",
       "    <tr>\n",
       "      <th>2498</th>\n",
       "      <td>9200</td>\n",
       "      <td>31371.0</td>\n",
       "      <td>2018</td>\n",
       "    </tr>\n",
       "  </tbody>\n",
       "</table>\n",
       "<p>2492 rows × 3 columns</p>\n",
       "</div>"
      ],
      "text/plain": [
       "      price   mileage  year\n",
       "0      6300  274117.0  2008\n",
       "1      2899  190552.0  2011\n",
       "2      5350   39590.0  2018\n",
       "3     25000   64146.0  2014\n",
       "4     27700    6654.0  2018\n",
       "...     ...       ...   ...\n",
       "2494   7800   23609.0  2019\n",
       "2495   9200   34553.0  2018\n",
       "2496   9200   31594.0  2018\n",
       "2497   9200   32557.0  2018\n",
       "2498   9200   31371.0  2018\n",
       "\n",
       "[2492 rows x 3 columns]"
      ]
     },
     "execution_count": 179,
     "metadata": {},
     "output_type": "execute_result"
    }
   ],
   "source": [
    "continuous_vals"
   ]
  },
  {
   "cell_type": "code",
   "execution_count": 180,
   "id": "eebf3bf9",
   "metadata": {},
   "outputs": [
    {
     "data": {
      "text/html": [
       "<div>\n",
       "<style scoped>\n",
       "    .dataframe tbody tr th:only-of-type {\n",
       "        vertical-align: middle;\n",
       "    }\n",
       "\n",
       "    .dataframe tbody tr th {\n",
       "        vertical-align: top;\n",
       "    }\n",
       "\n",
       "    .dataframe thead th {\n",
       "        text-align: right;\n",
       "    }\n",
       "</style>\n",
       "<table border=\"1\" class=\"dataframe\">\n",
       "  <thead>\n",
       "    <tr style=\"text-align: right;\">\n",
       "      <th></th>\n",
       "      <th>brand</th>\n",
       "      <th>model</th>\n",
       "      <th>title_status</th>\n",
       "      <th>color</th>\n",
       "      <th>lot</th>\n",
       "      <th>state</th>\n",
       "    </tr>\n",
       "  </thead>\n",
       "  <tbody>\n",
       "    <tr>\n",
       "      <th>0</th>\n",
       "      <td>toyota</td>\n",
       "      <td>cruiser</td>\n",
       "      <td>clean vehicle</td>\n",
       "      <td>black</td>\n",
       "      <td>159348797</td>\n",
       "      <td>new jersey</td>\n",
       "    </tr>\n",
       "    <tr>\n",
       "      <th>1</th>\n",
       "      <td>ford</td>\n",
       "      <td>se</td>\n",
       "      <td>clean vehicle</td>\n",
       "      <td>silver</td>\n",
       "      <td>166951262</td>\n",
       "      <td>tennessee</td>\n",
       "    </tr>\n",
       "    <tr>\n",
       "      <th>2</th>\n",
       "      <td>dodge</td>\n",
       "      <td>mpv</td>\n",
       "      <td>clean vehicle</td>\n",
       "      <td>silver</td>\n",
       "      <td>167655728</td>\n",
       "      <td>georgia</td>\n",
       "    </tr>\n",
       "    <tr>\n",
       "      <th>3</th>\n",
       "      <td>ford</td>\n",
       "      <td>door</td>\n",
       "      <td>clean vehicle</td>\n",
       "      <td>blue</td>\n",
       "      <td>167753855</td>\n",
       "      <td>virginia</td>\n",
       "    </tr>\n",
       "    <tr>\n",
       "      <th>4</th>\n",
       "      <td>chevrolet</td>\n",
       "      <td>1500</td>\n",
       "      <td>clean vehicle</td>\n",
       "      <td>red</td>\n",
       "      <td>167763266</td>\n",
       "      <td>florida</td>\n",
       "    </tr>\n",
       "    <tr>\n",
       "      <th>...</th>\n",
       "      <td>...</td>\n",
       "      <td>...</td>\n",
       "      <td>...</td>\n",
       "      <td>...</td>\n",
       "      <td>...</td>\n",
       "      <td>...</td>\n",
       "    </tr>\n",
       "    <tr>\n",
       "      <th>2494</th>\n",
       "      <td>nissan</td>\n",
       "      <td>versa</td>\n",
       "      <td>clean vehicle</td>\n",
       "      <td>red</td>\n",
       "      <td>167722715</td>\n",
       "      <td>california</td>\n",
       "    </tr>\n",
       "    <tr>\n",
       "      <th>2495</th>\n",
       "      <td>nissan</td>\n",
       "      <td>versa</td>\n",
       "      <td>clean vehicle</td>\n",
       "      <td>silver</td>\n",
       "      <td>167762225</td>\n",
       "      <td>florida</td>\n",
       "    </tr>\n",
       "    <tr>\n",
       "      <th>2496</th>\n",
       "      <td>nissan</td>\n",
       "      <td>versa</td>\n",
       "      <td>clean vehicle</td>\n",
       "      <td>silver</td>\n",
       "      <td>167762226</td>\n",
       "      <td>florida</td>\n",
       "    </tr>\n",
       "    <tr>\n",
       "      <th>2497</th>\n",
       "      <td>nissan</td>\n",
       "      <td>versa</td>\n",
       "      <td>clean vehicle</td>\n",
       "      <td>black</td>\n",
       "      <td>167762227</td>\n",
       "      <td>florida</td>\n",
       "    </tr>\n",
       "    <tr>\n",
       "      <th>2498</th>\n",
       "      <td>nissan</td>\n",
       "      <td>versa</td>\n",
       "      <td>clean vehicle</td>\n",
       "      <td>silver</td>\n",
       "      <td>167762228</td>\n",
       "      <td>florida</td>\n",
       "    </tr>\n",
       "  </tbody>\n",
       "</table>\n",
       "<p>2492 rows × 6 columns</p>\n",
       "</div>"
      ],
      "text/plain": [
       "          brand    model   title_status   color        lot       state\n",
       "0        toyota  cruiser  clean vehicle   black  159348797  new jersey\n",
       "1          ford       se  clean vehicle  silver  166951262   tennessee\n",
       "2         dodge      mpv  clean vehicle  silver  167655728     georgia\n",
       "3          ford     door  clean vehicle    blue  167753855    virginia\n",
       "4     chevrolet     1500  clean vehicle     red  167763266     florida\n",
       "...         ...      ...            ...     ...        ...         ...\n",
       "2494     nissan    versa  clean vehicle     red  167722715  california\n",
       "2495     nissan    versa  clean vehicle  silver  167762225     florida\n",
       "2496     nissan    versa  clean vehicle  silver  167762226     florida\n",
       "2497     nissan    versa  clean vehicle   black  167762227     florida\n",
       "2498     nissan    versa  clean vehicle  silver  167762228     florida\n",
       "\n",
       "[2492 rows x 6 columns]"
      ]
     },
     "execution_count": 180,
     "metadata": {},
     "output_type": "execute_result"
    }
   ],
   "source": [
    "categorical_vals"
   ]
  },
  {
   "cell_type": "code",
   "execution_count": 162,
   "id": "4e90add4",
   "metadata": {},
   "outputs": [],
   "source": [
    "import matplotlib.pyplot as plt"
   ]
  },
  {
   "cell_type": "code",
   "execution_count": 181,
   "id": "1075ef64",
   "metadata": {},
   "outputs": [
    {
     "data": {
      "text/plain": [
       "<matplotlib.collections.PathCollection at 0x312c5088>"
      ]
     },
     "execution_count": 181,
     "metadata": {},
     "output_type": "execute_result"
    },
    {
     "data": {
      "image/png": "[encoded data removed]",
      "text/plain": [
       "<Figure size 432x288 with 1 Axes>"
      ]
     },
     "metadata": {
      "needs_background": "light"
     },
     "output_type": "display_data"
    }
   ],
   "source": [
    "plt.scatter(continuous_vals[\"mileage\"], continuous_vals[\"price\"])"
   ]
  },
  {
   "cell_type": "code",
   "execution_count": 182,
   "id": "72d09bec",
   "metadata": {},
   "outputs": [
    {
     "data": {
      "text/plain": [
       "<matplotlib.collections.PathCollection at 0x30028388>"
      ]
     },
     "execution_count": 182,
     "metadata": {},
     "output_type": "execute_result"
    },
    {
     "data": {
      "image/png": "[encoded data removed]",
      "text/plain": [
       "<Figure size 432x288 with 1 Axes>"
      ]
     },
     "metadata": {
      "needs_background": "light"
     },
     "output_type": "display_data"
    }
   ],
   "source": [
    "plt.scatter(continuous_vals[\"year\"], continuous_vals[\"price\"])"
   ]
  },
  {
   "cell_type": "code",
   "execution_count": 183,
   "id": "3f022366",
   "metadata": {},
   "outputs": [],
   "source": [
    "from sklearn.linear_model import LinearRegression"
   ]
  },
  {
   "cell_type": "code",
   "execution_count": 165,
   "id": "fb11229a",
   "metadata": {},
   "outputs": [],
   "source": [
    "model = LinearRegression()"
   ]
  },
  {
   "cell_type": "code",
   "execution_count": 184,
   "id": "d21ed924",
   "metadata": {},
   "outputs": [],
   "source": [
    "X, y = continuous_vals[[\"mileage\", \"year\"]], continuous_vals[[\"price\"]]"
   ]
  },
  {
   "cell_type": "code",
   "execution_count": 185,
   "id": "a0ee6071",
   "metadata": {},
   "outputs": [
    {
     "data": {
      "text/plain": [
       "LinearRegression()"
      ]
     },
     "execution_count": 185,
     "metadata": {},
     "output_type": "execute_result"
    }
   ],
   "source": [
    "model.fit(X, y)"
   ]
  },
  {
   "cell_type": "code",
   "execution_count": 186,
   "id": "fad938f2",
   "metadata": {},
   "outputs": [
    {
     "data": {
      "text/plain": [
       "0.21036186646800958"
      ]
     },
     "execution_count": 186,
     "metadata": {},
     "output_type": "execute_result"
    }
   ],
   "source": [
    "r_2 = model.score(X, y)\n",
    "r_2"
   ]
  },
  {
   "cell_type": "code",
   "execution_count": 224,
   "id": "b5202b0e",
   "metadata": {},
   "outputs": [
    {
     "name": "stdout",
     "output_type": "stream",
     "text": [
      "ford         1235\n",
      "dodge         426\n",
      "nissan        312\n",
      "chevrolet     296\n",
      "gmc            42\n",
      "jeep           30\n",
      "chrysler       18\n",
      "bmw            17\n",
      "hyundai        15\n",
      "kia            13\n",
      "buick          13\n",
      "Name: brand, dtype: int64\n"
     ]
    },
    {
     "data": {
      "text/plain": [
       "<AxesSubplot:>"
      ]
     },
     "execution_count": 224,
     "metadata": {},
     "output_type": "execute_result"
    },
    {
     "data": {
      "image/png": "[encoded data removed]",
      "text/plain": [
       "<Figure size 432x288 with 1 Axes>"
      ]
     },
     "metadata": {
      "needs_background": "light"
     },
     "output_type": "display_data"
    }
   ],
   "source": [
    "x = categorical_vals[\"brand\"].value_counts()[:10]\n",
    "print(x)\n",
    "x.plot(kind=\"barh\")"
   ]
  },
  {
   "cell_type": "code",
   "execution_count": 225,
   "id": "89bcb7f9",
   "metadata": {},
   "outputs": [
    {
     "name": "stdout",
     "output_type": "stream",
     "text": [
      "door          651\n",
      "f-150         219\n",
      "doors         148\n",
      "caravan       102\n",
      "mpv            87\n",
      "fusion         65\n",
      "durango        64\n",
      "journey        61\n",
      "rogue          54\n",
      "van            46\n",
      "challenger     44\n",
      "Name: model, dtype: int64\n"
     ]
    },
    {
     "data": {
      "text/plain": [
       "<AxesSubplot:>"
      ]
     },
     "execution_count": 225,
     "metadata": {},
     "output_type": "execute_result"
    },
    {
     "data": {
      "image/png": "[encoded data removed]",
      "text/plain": [
       "<Figure size 432x288 with 1 Axes>"
      ]
     },
     "metadata": {
      "needs_background": "light"
     },
     "output_type": "display_data"
    }
   ],
   "source": [
    "x = categorical_vals[\"model\"].value_counts()[:10]\n",
    "print(x)\n",
    "x.plot(kind=\"barh\")"
   ]
  },
  {
   "cell_type": "code",
   "execution_count": 226,
   "id": "3e1d0381",
   "metadata": {},
   "outputs": [
    {
     "name": "stdout",
     "output_type": "stream",
     "text": [
      "clean vehicle        2329\n",
      "salvage insurance     163\n",
      "Name: title_status, dtype: int64\n"
     ]
    },
    {
     "data": {
      "text/plain": [
       "<AxesSubplot:>"
      ]
     },
     "execution_count": 226,
     "metadata": {},
     "output_type": "execute_result"
    },
    {
     "data": {
      "image/png": "[encoded data removed]",
      "text/plain": [
       "<Figure size 432x288 with 1 Axes>"
      ]
     },
     "metadata": {
      "needs_background": "light"
     },
     "output_type": "display_data"
    }
   ],
   "source": [
    "x = categorical_vals[\"title_status\"].value_counts()\n",
    "print(x)\n",
    "x.plot(kind=\"barh\")"
   ]
  },
  {
   "cell_type": "code",
   "execution_count": 228,
   "id": "e8a1366c",
   "metadata": {},
   "outputs": [
    {
     "name": "stdout",
     "output_type": "stream",
     "text": [
      "white       702\n",
      "black       516\n",
      "gray        395\n",
      "silver      300\n",
      "red         191\n",
      "blue        151\n",
      "no_color     61\n",
      "green        24\n",
      "orange       19\n",
      "gold         19\n",
      "Name: color, dtype: int64\n"
     ]
    },
    {
     "data": {
      "text/plain": [
       "<AxesSubplot:>"
      ]
     },
     "execution_count": 228,
     "metadata": {},
     "output_type": "execute_result"
    },
    {
     "data": {
      "image/png": "[encoded data removed]",
      "text/plain": [
       "<Figure size 432x288 with 1 Axes>"
      ]
     },
     "metadata": {
      "needs_background": "light"
     },
     "output_type": "display_data"
    }
   ],
   "source": [
    "x = categorical_vals[\"color\"].value_counts()[:10]\n",
    "print(x)\n",
    "x.plot(kind=\"barh\")"
   ]
  },
  {
   "cell_type": "code",
   "execution_count": 203,
   "id": "8bcec7ca",
   "metadata": {},
   "outputs": [
    {
     "data": {
      "text/plain": [
       "167650632    2\n",
       "167650636    2\n",
       "167650663    2\n",
       "167781794    2\n",
       "159348797    1\n",
       "            ..\n",
       "167773134    1\n",
       "167773188    1\n",
       "167773190    1\n",
       "167773290    1\n",
       "167762228    1\n",
       "Name: lot, Length: 2488, dtype: int64"
      ]
     },
     "execution_count": 203,
     "metadata": {},
     "output_type": "execute_result"
    }
   ],
   "source": [
    "categorical_vals[\"lot\"].value_counts()"
   ]
  },
  {
   "cell_type": "code",
   "execution_count": 229,
   "id": "bdf86914",
   "metadata": {},
   "outputs": [
    {
     "name": "stdout",
     "output_type": "stream",
     "text": [
      "pennsylvania      299\n",
      "florida           246\n",
      "texas             214\n",
      "california        190\n",
      "michigan          169\n",
      "north carolina    146\n",
      "minnesota         119\n",
      "illinois          113\n",
      "wisconsin          94\n",
      "virginia           90\n",
      "Name: state, dtype: int64\n"
     ]
    },
    {
     "data": {
      "text/plain": [
       "<AxesSubplot:>"
      ]
     },
     "execution_count": 229,
     "metadata": {},
     "output_type": "execute_result"
    },
    {
     "data": {
      "image/png": "[encoded data removed]",
      "text/plain": [
       "<Figure size 432x288 with 1 Axes>"
      ]
     },
     "metadata": {
      "needs_background": "light"
     },
     "output_type": "display_data"
    }
   ],
   "source": [
    "x = categorical_vals[\"state\"].value_counts()[:10]\n",
    "print(x)\n",
    "x.plot(kind=\"barh\")"
   ]
  },
  {
   "cell_type": "code",
   "execution_count": 233,
   "id": "bb6a2cd9",
   "metadata": {},
   "outputs": [
    {
     "data": {
      "text/plain": [
       "Index(['Unnamed: 0', 'price', 'brand', 'model', 'year', 'title_status',\n",
       "       'mileage', 'color', 'vin', 'lot', 'state', 'country', 'condition',\n",
       "       'hours_left'],\n",
       "      dtype='object')"
      ]
     },
     "execution_count": 233,
     "metadata": {},
     "output_type": "execute_result"
    }
   ],
   "source": [
    "cars_df.columns"
   ]
  },
  {
   "cell_type": "code",
   "execution_count": 234,
   "id": "ca66bbbe",
   "metadata": {},
   "outputs": [],
   "source": [
    "cars_df.drop(['Unnamed: 0'], axis=1, inplace=True)"
   ]
  },
  {
   "cell_type": "code",
   "execution_count": 235,
   "id": "e0950cac",
   "metadata": {},
   "outputs": [],
   "source": [
    "cars_df.to_csv(\"./cleaned_data.csv\")"
   ]
  },
  {
   "cell_type": "code",
   "execution_count": 231,
   "id": "940b910b",
   "metadata": {},
   "outputs": [],
   "source": [
    "import sqlite3"
   ]
  },
  {
   "cell_type": "code",
   "execution_count": 232,
   "id": "cefdbb8f",
   "metadata": {},
   "outputs": [],
   "source": [
    "connection = sqlite3.connect(\"cars_data.db\")"
   ]
  },
  {
   "cell_type": "code",
   "execution_count": 245,
   "id": "77b20c7d",
   "metadata": {},
   "outputs": [
    {
     "ename": "OperationalError",
     "evalue": "table car_data already exists",
     "output_type": "error",
     "traceback": [
      "\u001b[1;31m---------------------------------------------------------------------------\u001b[0m",
      "\u001b[1;31mOperationalError\u001b[0m                          Traceback (most recent call last)",
      "\u001b[1;32mC:\\Users\\EDDIER~1\\AppData\\Local\\Temp/ipykernel_1768/2395969887.py\u001b[0m in \u001b[0;36m<module>\u001b[1;34m\u001b[0m\n\u001b[0;32m      1\u001b[0m \u001b[0mcursor\u001b[0m \u001b[1;33m=\u001b[0m \u001b[0mconnection\u001b[0m\u001b[1;33m.\u001b[0m\u001b[0mcursor\u001b[0m\u001b[1;33m(\u001b[0m\u001b[1;33m)\u001b[0m\u001b[1;33m\u001b[0m\u001b[1;33m\u001b[0m\u001b[0m\n\u001b[1;32m----> 2\u001b[1;33m \u001b[0mcursor\u001b[0m\u001b[1;33m.\u001b[0m\u001b[0mexecute\u001b[0m\u001b[1;33m(\u001b[0m\u001b[1;34m\"CREATE TABLE car_data (price INTEGER, brand TEXT, model TEXT, year INTEGER, title_status TEXT, mileage INTEGER, color TEXT, vin TEXT, lot INTEGER, state TEXT, country TEXT, condition TEXT, hours_left TEXT)\"\u001b[0m\u001b[1;33m)\u001b[0m\u001b[1;33m\u001b[0m\u001b[1;33m\u001b[0m\u001b[0m\n\u001b[0m",
      "\u001b[1;31mOperationalError\u001b[0m: table car_data already exists"
     ]
    }
   ],
   "source": [
    "cursor = connection.cursor()\n",
    "cursor.execute(\"CREATE TABLE car_data (price INTEGER, brand TEXT, model TEXT, year INTEGER, title_status TEXT, mileage INTEGER, color TEXT, vin TEXT, lot INTEGER, state TEXT, country TEXT, condition TEXT, hours_left TEXT)\")"
   ]
  },
  {
   "cell_type": "code",
   "execution_count": 247,
   "id": "ac7658dc",
   "metadata": {},
   "outputs": [
    {
     "ename": "OperationalError",
     "evalue": "near \"vehicle\": syntax error",
     "output_type": "error",
     "traceback": [
      "\u001b[1;31m---------------------------------------------------------------------------\u001b[0m",
      "\u001b[1;31mOperationalError\u001b[0m                          Traceback (most recent call last)",
      "\u001b[1;32mC:\\Users\\EDDIER~1\\AppData\\Local\\Temp/ipykernel_1768/2167966304.py\u001b[0m in \u001b[0;36m<module>\u001b[1;34m\u001b[0m\n\u001b[0;32m      1\u001b[0m \u001b[1;32mfor\u001b[0m \u001b[0mind\u001b[0m \u001b[1;32min\u001b[0m \u001b[0mrange\u001b[0m\u001b[1;33m(\u001b[0m\u001b[0mlen\u001b[0m\u001b[1;33m(\u001b[0m\u001b[0mcars_df\u001b[0m\u001b[1;33m.\u001b[0m\u001b[0mindex\u001b[0m\u001b[1;33m)\u001b[0m\u001b[1;33m)\u001b[0m\u001b[1;33m:\u001b[0m\u001b[1;33m\u001b[0m\u001b[1;33m\u001b[0m\u001b[0m\n\u001b[1;32m----> 2\u001b[1;33m     \u001b[0mcursor\u001b[0m\u001b[1;33m.\u001b[0m\u001b[0mexecute\u001b[0m\u001b[1;33m(\u001b[0m\u001b[1;34mf\"INSERT INTO car_data VALUES ({cars_df['price'][ind]}, {cars_df['brand'][ind]}, {cars_df['model'][ind]}, {cars_df['year'][ind]}, {cars_df['title_status'][ind]}, {cars_df['mileage'][ind]}, {cars_df['color'][ind]}, {cars_df['vin'][ind]}, {cars_df['lot'][ind]}, {cars_df['state'][ind]}, {cars_df['country'][ind]}, {cars_df['condition'][ind]}, {cars_df['hours_left'][ind]})\"\u001b[0m\u001b[1;33m)\u001b[0m\u001b[1;33m\u001b[0m\u001b[1;33m\u001b[0m\u001b[0m\n\u001b[0m",
      "\u001b[1;31mOperationalError\u001b[0m: near \"vehicle\": syntax error"
     ]
    }
   ],
   "source": [
    "for ind in range(len(cars_df.index)):\n",
    "    cursor.execute(f\"INSERT INTO car_data VALUES ({cars_df['price'][ind]}, {cars_df['brand'][ind]}, {cars_df['model'][ind]}, {cars_df['year'][ind]}, {cars_df['title_status'][ind]}, {cars_df['mileage'][ind]}, {cars_df['color'][ind]}, {cars_df['vin'][ind]}, {cars_df['lot'][ind]}, {cars_df['state'][ind]}, {cars_df['country'][ind]}, {cars_df['condition'][ind]}, {cars_df['hours_left'][ind]})\")"
   ]
  },
  {
   "cell_type": "code",
   "execution_count": null,
   "id": "d1742782",
   "metadata": {},
   "outputs": [],
   "source": []
  }
 ],
 "metadata": {
  "kernelspec": {
   "display_name": "Python 3 (ipykernel)",
   "language": "python",
   "name": "python3"
  },
  "language_info": {
   "codemirror_mode": {
    "name": "ipython",
    "version": 3
   },
   "file_extension": ".py",
   "mimetype": "text/x-python",
   "name": "python",
   "nbconvert_exporter": "python",
   "pygments_lexer": "ipython3",
   "version": "3.8.5"
  }
 },
 "nbformat": 4,
 "nbformat_minor": 5
}
